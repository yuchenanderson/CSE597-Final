{
 "nbformat": 4,
 "nbformat_minor": 0,
 "metadata": {
  "colab": {
   "provenance": [],
   "gpuType": "T4"
  },
  "kernelspec": {
   "name": "python3",
   "display_name": "Python 3"
  },
  "language_info": {
   "name": "python"
  },
  "accelerator": "GPU"
 },
 "cells": [
  {
   "cell_type": "code",
   "execution_count": null,
   "metadata": {
    "id": "gA4kLa03OBaq"
   },
   "outputs": [],
   "source": [
    "!git clone https://github.com/OpenGVLab/CaFo.git"
   ]
  },
  {
   "cell_type": "code",
   "source": [
    "!mv CaFo/* ."
   ],
   "metadata": {
    "id": "8xQs_kW2OP-0"
   },
   "execution_count": 2,
   "outputs": []
  },
  {
   "cell_type": "code",
   "source": [
    "!pip install fastapi kaleido python-multipart uvicorn"
   ],
   "metadata": {
    "id": "3R6TM4dpOSZ0"
   },
   "execution_count": null,
   "outputs": []
  },
  {
   "cell_type": "code",
   "source": [
    "!pip install -r requirements.txt"
   ],
   "metadata": {
    "id": "2wB6s9k_OTmd"
   },
   "execution_count": null,
   "outputs": []
  },
  {
   "cell_type": "code",
   "source": [
    "!pip install pytorch torchvision cudatoolkit"
   ],
   "metadata": {
    "id": "zlnhu58YOU_k"
   },
   "execution_count": null,
   "outputs": []
  },
  {
   "cell_type": "code",
   "source": [
    "# Download dataset and upload them.\n",
    "!unzip \"CAFO dataset.zip\""
   ],
   "metadata": {
    "id": "EJqYEPOROWSN"
   },
   "execution_count": null,
   "outputs": []
  },
  {
   "cell_type": "code",
   "source": [
    "!CUDA_VISIBLE_DEVICES=0 python main.py --config configs/caltech101/1shot.yaml\n",
    "!CUDA_VISIBLE_DEVICES=0 python main.py --config configs/caltech101/2shot.yaml\n",
    "!CUDA_VISIBLE_DEVICES=0 python main.py --config configs/caltech101/4shot.yaml\n",
    "!CUDA_VISIBLE_DEVICES=0 python main.py --config configs/caltech101/8shot.yaml\n",
    "!CUDA_VISIBLE_DEVICES=0 python main.py --config configs/caltech101/16shot.yaml"
   ],
   "metadata": {
    "id": "2H6bVv3fOZNL"
   },
   "execution_count": null,
   "outputs": []
  },
  {
   "cell_type": "code",
   "source": [
    "!CUDA_VISIBLE_DEVICES=0 python main.py --config configs/pets/1shot.yaml\n",
    "!CUDA_VISIBLE_DEVICES=0 python main.py --config configs/pets/2shot.yaml\n",
    "!CUDA_VISIBLE_DEVICES=0 python main.py --config configs/pets/4shot.yaml\n",
    "!CUDA_VISIBLE_DEVICES=0 python main.py --config configs/pets/8shot.yaml\n",
    "!CUDA_VISIBLE_DEVICES=0 python main.py --config configs/pets/16shot.yaml"
   ],
   "metadata": {
    "id": "eXR3Rc7_OavV"
   },
   "execution_count": null,
   "outputs": []
  },
  {
   "cell_type": "code",
   "source": [
    "!CUDA_VISIBLE_DEVICES=0 python main.py --config configs/cars/1shot.yaml\n",
    "!CUDA_VISIBLE_DEVICES=0 python main.py --config configs/cars/2shot.yaml\n",
    "!CUDA_VISIBLE_DEVICES=0 python main.py --config configs/cars/4shot.yaml\n",
    "!CUDA_VISIBLE_DEVICES=0 python main.py --config configs/cars/8shot.yaml\n",
    "!CUDA_VISIBLE_DEVICES=0 python main.py --config configs/cars/16shot.yaml"
   ],
   "metadata": {
    "id": "YfvNpsk28MuA"
   },
   "execution_count": null,
   "outputs": []
  },
  {
   "cell_type": "code",
   "source": [
    "!CUDA_VISIBLE_DEVICES=0 python main.py --config configs/dtd/1shot.yaml\n",
    "!CUDA_VISIBLE_DEVICES=0 python main.py --config configs/dtd/2shot.yaml\n",
    "!CUDA_VISIBLE_DEVICES=0 python main.py --config configs/dtd/4shot.yaml\n",
    "!CUDA_VISIBLE_DEVICES=0 python main.py --config configs/dtd/8shot.yaml\n",
    "!CUDA_VISIBLE_DEVICES=0 python main.py --config configs/dtd/16shot.yaml"
   ],
   "metadata": {
    "id": "3l0kFOtr8hsq"
   },
   "execution_count": null,
   "outputs": []
  },
  {
   "cell_type": "code",
   "source": [
    "!CUDA_VISIBLE_DEVICES=0 python main.py --config configs/eurosat/1shot.yaml\n",
    "!CUDA_VISIBLE_DEVICES=0 python main.py --config configs/eurosat/2shot.yaml\n",
    "!CUDA_VISIBLE_DEVICES=0 python main.py --config configs/eurosat/4shot.yaml\n",
    "!CUDA_VISIBLE_DEVICES=0 python main.py --config configs/eurosat/8shot.yaml\n",
    "!CUDA_VISIBLE_DEVICES=0 python main.py --config configs/eurosat/16shot.yaml"
   ],
   "metadata": {
    "id": "MrmrgxwN8tS8"
   },
   "execution_count": null,
   "outputs": []
  },
  {
   "cell_type": "code",
   "source": [
    "!CUDA_VISIBLE_DEVICES=0 python main.py --config configs/fgvc/1shot.yaml\n",
    "!CUDA_VISIBLE_DEVICES=0 python main.py --config configs/fgvc/2shot.yaml\n",
    "!CUDA_VISIBLE_DEVICES=0 python main.py --config configs/fgvc/4shot.yaml\n",
    "!CUDA_VISIBLE_DEVICES=0 python main.py --config configs/fgvc/8shot.yaml\n",
    "!CUDA_VISIBLE_DEVICES=0 python main.py --config configs/fgvc/16shot.yaml"
   ],
   "metadata": {
    "id": "y5LzfD1N82Ao"
   },
   "execution_count": null,
   "outputs": []
  },
  {
   "cell_type": "code",
   "source": [
    "!CUDA_VISIBLE_DEVICES=0 python main.py --config configs/food101/1shot.yaml\n",
    "!CUDA_VISIBLE_DEVICES=0 python main.py --config configs/food101/2shot.yaml\n",
    "!CUDA_VISIBLE_DEVICES=0 python main.py --config configs/food101/4shot.yaml\n",
    "!CUDA_VISIBLE_DEVICES=0 python main.py --config configs/food101/8shot.yaml\n",
    "!CUDA_VISIBLE_DEVICES=0 python main.py --config configs/food101/16shot.yaml"
   ],
   "metadata": {
    "id": "2ilc0RWY9G-A"
   },
   "execution_count": null,
   "outputs": []
  },
  {
   "cell_type": "code",
   "source": [
    "!CUDA_VISIBLE_DEVICES=0 python main.py --config configs/oxford_flowers/1shot.yaml\n",
    "!CUDA_VISIBLE_DEVICES=0 python main.py --config configs/oxford_flowerst/2shot.yaml\n",
    "!CUDA_VISIBLE_DEVICES=0 python main.py --config configs/oxford_flowers/4shot.yaml\n",
    "!CUDA_VISIBLE_DEVICES=0 python main.py --config configs/oxford_flowers/8shot.yaml\n",
    "!CUDA_VISIBLE_DEVICES=0 python main.py --config configs/oxford_flowers/16shot.yaml"
   ],
   "metadata": {
    "id": "Oepaaj359OVo"
   },
   "execution_count": null,
   "outputs": []
  },
  {
   "cell_type": "code",
   "source": [
    "!CUDA_VISIBLE_DEVICES=0 python main.py --config configs/sun/1shot.yaml\n",
    "!CUDA_VISIBLE_DEVICES=0 python main.py --config configs/sun/2shot.yaml\n",
    "!CUDA_VISIBLE_DEVICES=0 python main.py --config configs/sun/4shot.yaml\n",
    "!CUDA_VISIBLE_DEVICES=0 python main.py --config configs/sun/8shot.yaml\n",
    "!CUDA_VISIBLE_DEVICES=0 python main.py --config configs/sun/16shot.yaml"
   ],
   "metadata": {
    "id": "YVT6-d3o9n2K"
   },
   "execution_count": null,
   "outputs": []
  },
  {
   "cell_type": "code",
   "source": [
    "!CUDA_VISIBLE_DEVICES=0 python main.py --config configs/ucf/1shot.yaml\n",
    "!CUDA_VISIBLE_DEVICES=0 python main.py --config configs/ucf/2shot.yaml\n",
    "!CUDA_VISIBLE_DEVICES=0 python main.py --config configs/ucf/4shot.yaml\n",
    "!CUDA_VISIBLE_DEVICES=0 python main.py --config configs/ucf/8shot.yaml\n",
    "!CUDA_VISIBLE_DEVICES=0 python main.py --config configs/ucf/16shot.yaml"
   ],
   "metadata": {
    "id": "aKzazKFQ9wdS"
   },
   "execution_count": null,
   "outputs": []
  },
  {
   "cell_type": "code",
   "source": [
    "!CUDA_VISIBLE_DEVICES=0 python main.py --config configs/sd_caltech101/1shot.yaml\n",
    "!CUDA_VISIBLE_DEVICES=0 python main.py --config configs/sd_caltech101/2shot.yaml\n",
    "!CUDA_VISIBLE_DEVICES=0 python main.py --config configs/sd_caltech101/4shot.yaml\n",
    "!CUDA_VISIBLE_DEVICES=0 python main.py --config configs/sd_caltech101/8shot.yaml\n",
    "!CUDA_VISIBLE_DEVICES=0 python main.py --config configs/sd_caltech101/16shot.yaml"
   ],
   "metadata": {
    "id": "RMr67DEf-EJw"
   },
   "execution_count": null,
   "outputs": []
  },
  {
   "cell_type": "code",
   "source": [
    "!CUDA_VISIBLE_DEVICES=0 python main.py --config configs/chat_caltech101/1shot.yaml\n",
    "!CUDA_VISIBLE_DEVICES=0 python main.py --config configs/chat_caltech101/2shot.yaml\n",
    "!CUDA_VISIBLE_DEVICES=0 python main.py --config configs/chat_caltech101/4shot.yaml\n",
    "!CUDA_VISIBLE_DEVICES=0 python main.py --config configs/chat_caltech101/8shot.yaml\n",
    "!CUDA_VISIBLE_DEVICES=0 python main.py --config configs/chat_caltech101/16shot.yaml"
   ],
   "metadata": {
    "id": "lUFC7ZJq-J-1"
   },
   "execution_count": null,
   "outputs": []
  }
 ]
}
